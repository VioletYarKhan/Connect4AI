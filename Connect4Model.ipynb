{
 "cells": [
  {
   "cell_type": "code",
   "execution_count": 94,
   "id": "848b32dd",
   "metadata": {},
   "outputs": [],
   "source": [
    "import math\n",
    "import numpy as np\n",
    "import torch\n",
    "from IPython.display import clear_output\n",
    "import random"
   ]
  },
  {
   "cell_type": "code",
   "execution_count": 95,
   "id": "42723d45",
   "metadata": {},
   "outputs": [],
   "source": [
    "global board\n",
    "board = [[r\" \" for _ in range(7)] for _ in range(6)]"
   ]
  },
  {
   "cell_type": "code",
   "execution_count": 96,
   "id": "f84f28b9",
   "metadata": {},
   "outputs": [],
   "source": [
    "def add_piece(col, player):\n",
    "    for row in reversed(board):\n",
    "        if row[col] == \" \":\n",
    "            row[col] = player\n",
    "            return True\n",
    "    return False"
   ]
  },
  {
   "cell_type": "code",
   "execution_count": 97,
   "id": "a780c5a4",
   "metadata": {},
   "outputs": [],
   "source": [
    "def check_win():\n",
    "    # Check horizontal locations for win\n",
    "    for row in range(6):\n",
    "        for col in range(4):\n",
    "            if board[row][col] != \" \" and all(board[row][col + i] == board[row][col] for i in range(4)):\n",
    "                return board[row][col]\n",
    "    # Check vertical locations for win\n",
    "    for col in range(7):\n",
    "        for row in range(3):\n",
    "            if board[row][col] != \" \" and all(board[row + i][col] == board[row][col] for i in range(4)):\n",
    "                return board[row][col]\n",
    "    # Check positively sloped diagonals\n",
    "    for row in range(3):\n",
    "        for col in range(4):\n",
    "            if board[row][col] != \" \" and all(board[row + i][col + i] == board[row][col] for i in range(4)):\n",
    "                return board[row][col]\n",
    "    # Check negatively sloped diagonals\n",
    "    for row in range(3, 6):\n",
    "        for col in range(4):\n",
    "            if board[row][col] != \" \" and all(board[row - i][col + i] == board[row][col] for i in range(4)):\n",
    "                return board[row][col]\n",
    "    return 0  # No winner yet"
   ]
  },
  {
   "cell_type": "code",
   "execution_count": 116,
   "id": "a1f96073",
   "metadata": {},
   "outputs": [],
   "source": [
    "# 0 = pvp, 1 = pvc, 2 = cvc\n",
    "def play_game(type):\n",
    "    global board\n",
    "    board = [[r\" \" for _ in range(7)] for _ in range(6)]\n",
    "    players = [\"X\", \"O\"]\n",
    "    turn = 0\n",
    "    while True:\n",
    "        print(\"\\nCurrent board:\")\n",
    "        for row in board:\n",
    "            print(row)\n",
    "        current_player = players[turn % 2]\n",
    "        if (type == 0) or (type == 1 and turn % 2 == 0):\n",
    "            # Human move\n",
    "            while True:\n",
    "                try:\n",
    "                    col = int(input(f\"Player {current_player}, choose column (0-6): \"))\n",
    "                    if 0 <= col < 7 and add_piece(col, current_player):\n",
    "                        break\n",
    "                    else:\n",
    "                        print(\"Invalid move. Try again.\")\n",
    "                except ValueError:\n",
    "                    print(\"Please enter a valid integer.\")\n",
    "        else:\n",
    "            # Computer move\n",
    "            valid_cols = [c for c in range(7) if board[0][c] == \" \"]\n",
    "            col = random.choice(valid_cols)\n",
    "            print(f\"Computer {current_player} chooses column {col}\")\n",
    "            add_piece(col, current_player)\n",
    "        winner = check_win()\n",
    "        if winner != 0 and winner != \" \":\n",
    "            clear_output(False)\n",
    "            print(f\"Player {winner} wins!\")\n",
    "            print(\"\\nCurrent board:\")\n",
    "            for row in board:\n",
    "                print(row)\n",
    "            break\n",
    "        if all(board[0][c] != \" \" for c in range(7)):\n",
    "            print(\"It's a draw!\")\n",
    "            break\n",
    "        turn += 1\n",
    "        clear_output(False)\n"
   ]
  },
  {
   "cell_type": "code",
   "execution_count": 118,
   "id": "2cc1c40c",
   "metadata": {},
   "outputs": [
    {
     "name": "stdout",
     "output_type": "stream",
     "text": [
      "Player O wins!\n",
      "\n",
      "Current board:\n",
      "[' ', 'X', ' ', ' ', ' ', ' ', ' ']\n",
      "['X', 'O', ' ', ' ', ' ', ' ', ' ']\n",
      "['O', 'X', ' ', ' ', ' ', ' ', ' ']\n",
      "['X', 'O', ' ', ' ', ' ', ' ', ' ']\n",
      "['X', 'X', 'O', ' ', ' ', ' ', ' ']\n",
      "['X', 'O', 'O', 'O', ' ', ' ', ' ']\n"
     ]
    }
   ],
   "source": [
    "play_game(1)"
   ]
  },
  {
   "cell_type": "code",
   "execution_count": null,
   "id": "7ae16599",
   "metadata": {},
   "outputs": [],
   "source": []
  }
 ],
 "metadata": {
  "kernelspec": {
   "display_name": "Python 3",
   "language": "python",
   "name": "python3"
  },
  "language_info": {
   "codemirror_mode": {
    "name": "ipython",
    "version": 3
   },
   "file_extension": ".py",
   "mimetype": "text/x-python",
   "name": "python",
   "nbconvert_exporter": "python",
   "pygments_lexer": "ipython3",
   "version": "3.11.9"
  }
 },
 "nbformat": 4,
 "nbformat_minor": 5
}
